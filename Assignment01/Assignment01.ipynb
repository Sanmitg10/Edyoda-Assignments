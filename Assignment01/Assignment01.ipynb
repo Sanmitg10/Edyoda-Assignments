{
 "cells": [
  {
   "cell_type": "markdown",
   "id": "1b35e12e",
   "metadata": {},
   "source": [
    "# Q1 Note : The Fibonacci Sequence is the series of numbers :\n",
    "0, 1, 1, 2, 3, 5, 8, 13, 21, ....\n",
    "\n",
    "Every next number is found by adding up the two numbers before it.\n",
    "\n",
    "Expected Output : 1 1 2 3 5 8 13 21 34"
   ]
  },
  {
   "cell_type": "markdown",
   "id": "5fcb3d5a",
   "metadata": {},
   "source": [
    "## Solution 1 :"
   ]
  },
  {
   "cell_type": "code",
   "execution_count": 1,
   "id": "19018584",
   "metadata": {},
   "outputs": [
    {
     "name": "stdout",
     "output_type": "stream",
     "text": [
      "how many terms :8\n",
      "fibonacci sequence :\n",
      "1 1 2 3 5 8 13 21 34 "
     ]
    }
   ],
   "source": [
    "n = int(input(\"how many terms :\"))\n",
    "n1 , n2 = 0 , 1\n",
    "count = 0\n",
    "if n <= 0:\n",
    "    print(\"Enter a positive number\")\n",
    "    \n",
    "elif n == 1:\n",
    "    print(\"fibonacci series upto\",n,\":\")\n",
    "    print(n1)\n",
    "else:\n",
    "    print(\"fibonacci sequence :\")\n",
    "    while count <= n:\n",
    "        print(n2 , end = \" \")\n",
    "        n3 = n1 + n2\n",
    "        n1 = n2\n",
    "        n2 = n3\n",
    "        count+=1"
   ]
  },
  {
   "cell_type": "code",
   "execution_count": null,
   "id": "bf7fd19a",
   "metadata": {},
   "outputs": [],
   "source": []
  },
  {
   "cell_type": "markdown",
   "id": "ae54f36c",
   "metadata": {},
   "source": [
    "# Q2 Write a Python program that accepts a word from the user and reverse it.\n",
    "Sample Test Case\n",
    "\n",
    "Input : Edyoda\n",
    "\n",
    "output: adoydE"
   ]
  },
  {
   "cell_type": "markdown",
   "id": "06975b55",
   "metadata": {},
   "source": [
    "## Solution :"
   ]
  },
  {
   "cell_type": "code",
   "execution_count": 2,
   "id": "a1a7ea83",
   "metadata": {},
   "outputs": [
    {
     "name": "stdout",
     "output_type": "stream",
     "text": [
      "Enter a word : Edyoda\n",
      "Reverse of a given word : adoydE\n"
     ]
    }
   ],
   "source": [
    "word = input(\"Enter a word : \")\n",
    "reverse_word = word[::-1]\n",
    "print(\"Reverse of a given word :\",reverse_word)"
   ]
  },
  {
   "cell_type": "code",
   "execution_count": null,
   "id": "24c00388",
   "metadata": {},
   "outputs": [],
   "source": []
  },
  {
   "cell_type": "markdown",
   "id": "3b794fd9",
   "metadata": {},
   "source": [
    "# Q3 Write a Python program to count the number of even and odd numbers from a series of numbers.\n",
    "Sample numbers : numbers = (1, 2, 3, 4, 5, 6, 7, 8, 9)\n",
    "\n",
    "Expected Output :\n",
    "\n",
    "Number of even numbers : 4\n",
    "\n",
    "Number of odd numbers : 5"
   ]
  },
  {
   "cell_type": "markdown",
   "id": "92d3ac07",
   "metadata": {},
   "source": [
    "## Solution :"
   ]
  },
  {
   "cell_type": "code",
   "execution_count": 3,
   "id": "313a49a0",
   "metadata": {},
   "outputs": [
    {
     "name": "stdout",
     "output_type": "stream",
     "text": [
      "Number of even numbers : 4\n",
      "Number of odd numbers : 5\n"
     ]
    }
   ],
   "source": [
    "numbers = (1, 2, 3, 4, 5, 6, 7, 8, 9)\n",
    "c = 0\n",
    "c1 = 0\n",
    "for n in numbers:\n",
    "    if n % 2 == 0:\n",
    "        c += 1\n",
    "    elif n % 2 == 1:\n",
    "          c1 += 1 \n",
    "print(\"Number of even numbers :\",c)            \n",
    "print(\"Number of odd numbers :\",c1)"
   ]
  },
  {
   "cell_type": "code",
   "execution_count": null,
   "id": "91c0d454",
   "metadata": {},
   "outputs": [],
   "source": []
  }
 ],
 "metadata": {
  "kernelspec": {
   "display_name": "Python 3 (ipykernel)",
   "language": "python",
   "name": "python3"
  },
  "language_info": {
   "codemirror_mode": {
    "name": "ipython",
    "version": 3
   },
   "file_extension": ".py",
   "mimetype": "text/x-python",
   "name": "python",
   "nbconvert_exporter": "python",
   "pygments_lexer": "ipython3",
   "version": "3.9.6"
  }
 },
 "nbformat": 4,
 "nbformat_minor": 5
}
