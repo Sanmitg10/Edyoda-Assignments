{
 "cells": [
  {
   "cell_type": "markdown",
   "id": "2f22025b",
   "metadata": {},
   "source": [
    "# Write a Python function to sum all the numbers in a list.\n",
    "\n",
    "\n",
    "\n",
    "Sample List : (8, 2, 3, 0, 7)\n",
    "\n",
    "Expected Output : 20"
   ]
  },
  {
   "cell_type": "code",
   "execution_count": 65,
   "id": "6ac5c71a",
   "metadata": {},
   "outputs": [],
   "source": [
    "def add1(list1):\n",
    "    sum1 = 0 \n",
    "    if list1:\n",
    "        for i in list1:\n",
    "            sum1 = sum1 + i\n",
    "        print('Sum of all numbers is',sum1)\n",
    "    else:\n",
    "         print('list is empty')\n"
   ]
  },
  {
   "cell_type": "code",
   "execution_count": 67,
   "id": "7ece6f51",
   "metadata": {},
   "outputs": [
    {
     "name": "stdout",
     "output_type": "stream",
     "text": [
      "Sum of all numbers is 20\n"
     ]
    }
   ],
   "source": [
    "add1([8, 2, 3, 0, 7])"
   ]
  },
  {
   "cell_type": "markdown",
   "id": "48c7093a",
   "metadata": {},
   "source": [
    "# Write a Python program to reverse a string.\n",
    "\n",
    "\n",
    "\n",
    "﻿Sample String : \"1234abcd\"\n",
    "\n",
    "Expected Output : \"dcba4321\""
   ]
  },
  {
   "cell_type": "code",
   "execution_count": 73,
   "id": "f12c557e",
   "metadata": {},
   "outputs": [],
   "source": [
    "def string(a):\n",
    "    return a[::-1] "
   ]
  },
  {
   "cell_type": "code",
   "execution_count": 72,
   "id": "3400fbd5",
   "metadata": {},
   "outputs": [
    {
     "data": {
      "text/plain": [
       "'dcba4321'"
      ]
     },
     "execution_count": 72,
     "metadata": {},
     "output_type": "execute_result"
    }
   ],
   "source": [
    "string(\"1234abcd\")"
   ]
  },
  {
   "cell_type": "markdown",
   "id": "0d2266b2",
   "metadata": {},
   "source": [
    "# Write a Python function that accepts a string and calculate the number of upper case letters and lower case letters.\n",
    "\n",
    "\n",
    "\n",
    "﻿Sample String : 'The quick Brow Fox'\n",
    "\n",
    "Expected Output :\n",
    "\n",
    "No. of Upper case characters : 3\n",
    "\n",
    "No. of Lower case Characters : 12"
   ]
  },
  {
   "cell_type": "code",
   "execution_count": 101,
   "id": "d6694bed",
   "metadata": {},
   "outputs": [],
   "source": [
    "def upplow(string1):\n",
    "    uppercase = 0\n",
    "    lowercase = 0\n",
    "    for x in string1:\n",
    "        if x.isupper():\n",
    "            uppercase = uppercase+1\n",
    "    \n",
    "        elif x.islower():\n",
    "            lowercase = lowercase+1\n",
    "    print('No. of Upper case characters : ',uppercase)\n",
    "    print('No. of Lower case characters : ',lowercase)\n",
    "            "
   ]
  },
  {
   "cell_type": "code",
   "execution_count": 102,
   "id": "661dd31d",
   "metadata": {},
   "outputs": [
    {
     "name": "stdout",
     "output_type": "stream",
     "text": [
      "No. of Upper case characters :  3\n",
      "No. of Lower case characters :  12\n"
     ]
    }
   ],
   "source": [
    "upplow('The quick Brow Fox')"
   ]
  },
  {
   "cell_type": "code",
   "execution_count": null,
   "id": "468615af",
   "metadata": {},
   "outputs": [],
   "source": []
  }
 ],
 "metadata": {
  "kernelspec": {
   "display_name": "Python 3 (ipykernel)",
   "language": "python",
   "name": "python3"
  },
  "language_info": {
   "codemirror_mode": {
    "name": "ipython",
    "version": 3
   },
   "file_extension": ".py",
   "mimetype": "text/x-python",
   "name": "python",
   "nbconvert_exporter": "python",
   "pygments_lexer": "ipython3",
   "version": "3.9.6"
  }
 },
 "nbformat": 4,
 "nbformat_minor": 5
}
