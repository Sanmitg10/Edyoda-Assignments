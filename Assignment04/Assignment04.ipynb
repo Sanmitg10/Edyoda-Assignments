{
 "cells": [
  {
   "cell_type": "markdown",
   "id": "9d26e9e3",
   "metadata": {},
   "source": [
    "# Q1. Write a Python program to create a lambda function that adds 25 to a given number passed in as an argument.\n",
    "sample input: 10\n",
    "\n",
    "sample output: 35"
   ]
  },
  {
   "cell_type": "code",
   "execution_count": 1,
   "id": "618d2d92",
   "metadata": {},
   "outputs": [
    {
     "name": "stdout",
     "output_type": "stream",
     "text": [
      "35\n"
     ]
    }
   ],
   "source": [
    "a = lambda x : x+25\n",
    "print(a(10))"
   ]
  },
  {
   "cell_type": "markdown",
   "id": "90fe300f",
   "metadata": {},
   "source": [
    "# Q2. Write a Python program to triple all numbers of a given list of integers. Use Python map.\n",
    "sample list: [1, 2, 3, 4, 5, 6, 7]\n",
    "\n",
    "Triple of list numbers:\n",
    "\n",
    "[3, 6, 9, 12, 15, 18, 21]"
   ]
  },
  {
   "cell_type": "code",
   "execution_count": 3,
   "id": "5b38adb3",
   "metadata": {},
   "outputs": [
    {
     "name": "stdout",
     "output_type": "stream",
     "text": [
      "1 2 3 4 5 6 7\n",
      "[1, 2, 3, 4, 5, 6, 7]\n",
      "[3, 6, 9, 12, 15, 18, 21]\n"
     ]
    }
   ],
   "source": [
    "a = list(map(int,input().split(' ')))\n",
    "print(a)\n",
    "print(list(map(lambda x:x*3,a)))"
   ]
  },
  {
   "cell_type": "markdown",
   "id": "cbf8fe3f",
   "metadata": {},
   "source": [
    "# Q3. Write a Python program to square the elements of a list using map() function.\n",
    "Sample List: [4, 5, 2, 9]\n",
    "\n",
    "Square the elements of the list:\n",
    "\n",
    "[16, 25, 4, 81]"
   ]
  },
  {
   "cell_type": "code",
   "execution_count": 4,
   "id": "5f01426c",
   "metadata": {},
   "outputs": [
    {
     "name": "stdout",
     "output_type": "stream",
     "text": [
      "4 5 2 9\n",
      "[4, 5, 2, 9]\n",
      "[16, 25, 4, 81]\n"
     ]
    }
   ],
   "source": [
    "a = list(map(int,input().split(' ')))\n",
    "print(a)\n",
    "print(list(map(lambda x:x**2,a)))"
   ]
  },
  {
   "cell_type": "code",
   "execution_count": null,
   "id": "ae2c0220",
   "metadata": {},
   "outputs": [],
   "source": []
  }
 ],
 "metadata": {
  "kernelspec": {
   "display_name": "Python 3 (ipykernel)",
   "language": "python",
   "name": "python3"
  },
  "language_info": {
   "codemirror_mode": {
    "name": "ipython",
    "version": 3
   },
   "file_extension": ".py",
   "mimetype": "text/x-python",
   "name": "python",
   "nbconvert_exporter": "python",
   "pygments_lexer": "ipython3",
   "version": "3.9.6"
  }
 },
 "nbformat": 4,
 "nbformat_minor": 5
}
