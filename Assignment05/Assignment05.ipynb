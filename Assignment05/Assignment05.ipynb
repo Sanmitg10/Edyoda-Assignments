{
 "cells": [
  {
   "cell_type": "markdown",
   "id": "e216b9fb",
   "metadata": {},
   "source": [
    "# Write a Python class to implement pow(x, n)\n",
    "\n",
    "\n",
    "Explanation:\n",
    "\n",
    "Use should be able to find the nth power of the x.(i.e x*x*x*x...n times)\n",
    "\n",
    "You must implement it using Class\n",
    "\n",
    "\n",
    "Sample Input:\n",
    "\n",
    "x: 10\n",
    "\n",
    "n: 2\n",
    "\n",
    "\n",
    "Sample Output:\n",
    "\n",
    "100\n",
    "\n"
   ]
  },
  {
   "cell_type": "code",
   "execution_count": 1,
   "id": "3d69e906",
   "metadata": {},
   "outputs": [],
   "source": [
    "class power:\n",
    "    def __init__(self,x,n):\n",
    "        self.x = x\n",
    "        self.y = n\n",
    "    def func(self):\n",
    "        return self.x**self.n"
   ]
  },
  {
   "cell_type": "code",
   "execution_count": 6,
   "id": "9980b9cf",
   "metadata": {},
   "outputs": [],
   "source": [
    "obj1 = power(10,2)"
   ]
  },
  {
   "cell_type": "code",
   "execution_count": 7,
   "id": "d17aad7a",
   "metadata": {},
   "outputs": [
    {
     "data": {
      "text/plain": [
       "100"
      ]
     },
     "execution_count": 7,
     "metadata": {},
     "output_type": "execute_result"
    }
   ],
   "source": [
    "obj1.func()"
   ]
  },
  {
   "cell_type": "code",
   "execution_count": null,
   "id": "c243666b",
   "metadata": {},
   "outputs": [],
   "source": []
  }
 ],
 "metadata": {
  "kernelspec": {
   "display_name": "Python 3 (ipykernel)",
   "language": "python",
   "name": "python3"
  },
  "language_info": {
   "codemirror_mode": {
    "name": "ipython",
    "version": 3
   },
   "file_extension": ".py",
   "mimetype": "text/x-python",
   "name": "python",
   "nbconvert_exporter": "python",
   "pygments_lexer": "ipython3",
   "version": "3.9.6"
  }
 },
 "nbformat": 4,
 "nbformat_minor": 5
}
