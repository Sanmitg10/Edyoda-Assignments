{
 "cells": [
  {
   "cell_type": "markdown",
   "id": "73e4dad8",
   "metadata": {},
   "source": [
    "# Write a Python class to implement pow(x, n)\n",
    "\n",
    "\n",
    "Explanation:\n",
    "\n",
    "Use should be able to find the nth power of the x.(i.e x*x*x*x...n times)\n",
    "\n",
    "You must implement it using Class\n",
    "\n",
    "\n",
    "Sample Input:\n",
    "\n",
    "x: 10\n",
    "\n",
    "n: 2\n",
    "\n",
    "\n",
    "Sample Output:\n",
    "\n",
    "100\n",
    "\n"
   ]
  },
  {
   "cell_type": "code",
   "execution_count": 1,
   "id": "05320949",
   "metadata": {},
   "outputs": [],
   "source": [
    "class power:\n",
    "    def __init__(self,x,y):\n",
    "        self.x = x\n",
    "        self.y = y\n",
    "    def func(self):\n",
    "        return self.x**self.y"
   ]
  },
  {
   "cell_type": "code",
   "execution_count": 4,
   "id": "2e9b20cd",
   "metadata": {},
   "outputs": [],
   "source": [
    "obj1 = power(10,3)"
   ]
  },
  {
   "cell_type": "code",
   "execution_count": 5,
   "id": "9ea588e6",
   "metadata": {},
   "outputs": [
    {
     "data": {
      "text/plain": [
       "1000"
      ]
     },
     "execution_count": 5,
     "metadata": {},
     "output_type": "execute_result"
    }
   ],
   "source": [
    "obj1.func()"
   ]
  },
  {
   "cell_type": "code",
   "execution_count": null,
   "id": "d09c2a35",
   "metadata": {},
   "outputs": [],
   "source": []
  }
 ],
 "metadata": {
  "kernelspec": {
   "display_name": "Python 3 (ipykernel)",
   "language": "python",
   "name": "python3"
  },
  "language_info": {
   "codemirror_mode": {
    "name": "ipython",
    "version": 3
   },
   "file_extension": ".py",
   "mimetype": "text/x-python",
   "name": "python",
   "nbconvert_exporter": "python",
   "pygments_lexer": "ipython3",
   "version": "3.9.6"
  }
 },
 "nbformat": 4,
 "nbformat_minor": 5
}
